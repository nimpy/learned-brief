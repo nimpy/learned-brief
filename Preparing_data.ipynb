{
 "cells": [
  {
   "cell_type": "code",
   "execution_count": 1,
   "metadata": {},
   "outputs": [],
   "source": [
    "from os import listdir\n",
    "from os import system\n",
    "import os\n",
    "import random\n",
    "from PIL import Image\n",
    "import numpy as np\n",
    "import scipy.misc\n",
    "import imageio\n",
    "import cv2\n",
    "\n",
    "import matplotlib.pyplot as plt"
   ]
  },
  {
   "cell_type": "code",
   "execution_count": 10,
   "metadata": {},
   "outputs": [],
   "source": [
    "dir_from = '/scratch/image_datasets/imagenet'\n",
    "dir_all = '/scratch/image_datasets/2_for_learned_brief/ridiculously_small/all'\n",
    "patch_size = 56\n",
    "\n",
    "# parameters for extracting patches from images, \n",
    "#   first one when going randomly, second one when going in a raster scan fasion\n",
    "nr_patches_per_image = 3\n",
    "stride = 8"
   ]
  },
  {
   "cell_type": "code",
   "execution_count": 11,
   "metadata": {},
   "outputs": [],
   "source": [
    "files = listdir(dir_from)\n",
    "files_nr = len(files)"
   ]
  },
  {
   "cell_type": "code",
   "execution_count": 12,
   "metadata": {},
   "outputs": [
    {
     "data": {
      "text/plain": [
       "211"
      ]
     },
     "execution_count": 12,
     "metadata": {},
     "output_type": "execute_result"
    }
   ],
   "source": [
    "files_nr"
   ]
  },
  {
   "cell_type": "code",
   "execution_count": 13,
   "metadata": {
    "scrolled": true
   },
   "outputs": [
    {
     "name": "stdout",
     "output_type": "stream",
     "text": [
      "Could not load \"\" \n",
      "Reason: \"broken data stream when reading image file\"\n",
      "Please see documentation at: http://pillow.readthedocs.io/en/latest/installation.html#external-libraries\n",
      "84\n"
     ]
    }
   ],
   "source": [
    "counter = 0\n",
    "\n",
    "    \n",
    "random.shuffle(files)\n",
    "for i in range(files_nr):\n",
    "    try:\n",
    "#         image = Image.open(dir_from + '/' + files[i]) # + '/' + folder\n",
    "        image = imageio.imread(dir_from + '/' + files[i])\n",
    "        image = cv2.cvtColor(image, cv2.COLOR_RGB2GRAY)\n",
    "    except Exception as e:\n",
    "        print(e)\n",
    "        print(i)\n",
    "        continue\n",
    "    image = np.array(image)\n",
    "\n",
    "#     image = imageio.imread(dir_from + '/' + files[i])\n",
    "\n",
    "    \n",
    "    if True:  # if the folder contains large number of images, \n",
    "               #  so we want to extract only a few patches from each image (randomly)\n",
    "    \n",
    "        for j in range(nr_patches_per_image):\n",
    "            x = random.randint(0, image.shape[0] - patch_size)\n",
    "            y = random.randint(0, image.shape[1] - patch_size)\n",
    "            patch = image[x : x + patch_size, y : y + patch_size]\n",
    "\n",
    "#             scipy.misc.imsave(dir_all + '/patch_test_images_inpainting' + str(counter).zfill(5) + '_' +str(j) + '.bmp', patch)\n",
    "    #         patch.save(dir_all + '/patch_' + str(counter).zfill(5) + '_' +str(j) + '.bmp')\n",
    "    \n",
    "#             print('Saving' + dir_all + '/patch_brief_' + str(counter).zfill(5) + '.bmp')\n",
    "#             plt.imshow(patch, cmap='gray')\n",
    "#             plt.show()\n",
    "  \n",
    "            imageio.imwrite(dir_all + '/patch_brief_' + str(counter).zfill(5) + '.bmp', patch)\n",
    "            counter += 1\n",
    "    \n",
    "    else:  # if the folder contains only a few images,\n",
    "           #  so we want to extract all the patches we can get (non-overlapping)\n",
    "        \n",
    "        for h in range(0, image.shape[0] - patch_size, stride):\n",
    "            for w in range(0, image.shape[1] - patch_size, stride):\n",
    "                patch = image[h : h + patch_size, w : w + patch_size, :]\n",
    "#                 scipy.misc.imsave(dir_all + '/patch_test_images_inpainting_' + str(counter).zfill(5) + '.bmp', patch)\n",
    "                print('Saving' + dir_all + '/patch_test_images_inpainting_' + str(counter).zfill(5) + '.bmp')\n",
    "                counter += 1"
   ]
  },
  {
   "cell_type": "code",
   "execution_count": 14,
   "metadata": {},
   "outputs": [
    {
     "data": {
      "text/plain": [
       "630"
      ]
     },
     "execution_count": 14,
     "metadata": {},
     "output_type": "execute_result"
    }
   ],
   "source": [
    "counter"
   ]
  },
  {
   "cell_type": "code",
   "execution_count": 17,
   "metadata": {},
   "outputs": [],
   "source": [
    "dir_base = '/scratch/image_datasets/2_for_learned_brief/ridiculously_small'\n",
    "dir_train = dir_base + '/train/class0'\n",
    "dir_validation = dir_base + '/validation/class0'\n",
    "dir_test = dir_base + '/test/class0'\n",
    "\n",
    "# os.system('mkdir ' + dir_base + '/train')\n",
    "# os.system('mkdir ' + dir_base + '/validation')\n",
    "# os.system('mkdir ' + dir_base + '/test')\n",
    "\n",
    "# os.system('mkdir ' + dir_base)\n",
    "# os.system('mkdir ' + dir_base)\n",
    "# os.system('mkdir ' + dir_base)\n",
    "\n",
    "\n",
    "files = os.listdir(dir_all)\n",
    "files_count = len(files)\n",
    "\n",
    "random.shuffle(files)\n",
    "\n",
    "cutoff1 = int(files_count * 0.8) # 40000 # int(files_count * 0.8)\n",
    "cutoff2 = int(files_count * 0.9) # 40000 + 5000 # int(files_count * 0.9)\n",
    "cutoff3 = files_count # 40000 + 5000 + 5000 # files_count\n",
    "\n",
    "\n",
    "for i in range(cutoff1):\n",
    "    os.system(\"mv \" + dir_all + \"/\" + files[i] + \" \" + dir_train + \"/\" + files[i])\n",
    "    \n",
    "for i in range(cutoff1, cutoff2):\n",
    "    os.system(\"mv \" + dir_all + \"/\" + files[i] + \" \" + dir_validation + \"/\" + files[i])\n",
    "    \n",
    "for i in range(cutoff2, cutoff3):\n",
    "    os.system(\"mv \" + dir_all + \"/\" + files[i] + \" \" + dir_test + \"/\" + files[i])"
   ]
  },
  {
   "cell_type": "code",
   "execution_count": null,
   "metadata": {},
   "outputs": [],
   "source": []
  }
 ],
 "metadata": {
  "kernelspec": {
   "display_name": "Python [conda env:sift]",
   "language": "python",
   "name": "conda-env-sift-py"
  },
  "language_info": {
   "codemirror_mode": {
    "name": "ipython",
    "version": 3
   },
   "file_extension": ".py",
   "mimetype": "text/x-python",
   "name": "python",
   "nbconvert_exporter": "python",
   "pygments_lexer": "ipython3",
   "version": "3.6.8"
  }
 },
 "nbformat": 4,
 "nbformat_minor": 2
}
