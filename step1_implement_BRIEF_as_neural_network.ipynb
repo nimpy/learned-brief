{
 "cells": [
  {
   "cell_type": "code",
   "execution_count": 1,
   "metadata": {},
   "outputs": [
    {
     "name": "stderr",
     "output_type": "stream",
     "text": [
      "Using TensorFlow backend.\n"
     ]
    }
   ],
   "source": [
    "from keras.layers import Input, Conv2D, Dense, Flatten\n",
    "from keras.models import Model\n",
    "from keras import initializers\n",
    "import keras\n",
    "\n",
    "import numpy as np\n",
    "import imageio"
   ]
  },
  {
   "cell_type": "code",
   "execution_count": 2,
   "metadata": {},
   "outputs": [],
   "source": [
    "# patch size is larger than the default value of PATCH_SIZE in OpenCV impl. (48),\n",
    "#   s.t. the blurring can be done with averaging kernel (Conv2D) with valid padding\n",
    "patch_size = 56  \n",
    "\n",
    "averaging_kernel_weight_3x3 = 1./9\n",
    "\n",
    "# as calculated in step1_coordinates_to_dense_layer_weights.py\n",
    "weights_dense = np.load(\"./weights/weights_dense_64.npy\")"
   ]
  },
  {
   "cell_type": "code",
   "execution_count": 3,
   "metadata": {},
   "outputs": [
    {
     "name": "stdout",
     "output_type": "stream",
     "text": [
      "Model: \"model_1\"\n",
      "_________________________________________________________________\n",
      "Layer (type)                 Output Shape              Param #   \n",
      "=================================================================\n",
      "input_1 (InputLayer)         (None, 56, 56, 1)         0         \n",
      "_________________________________________________________________\n",
      "conv2d_1 (Conv2D)            (None, 54, 54, 1)         10        \n",
      "_________________________________________________________________\n",
      "conv2d_2 (Conv2D)            (None, 52, 52, 1)         10        \n",
      "_________________________________________________________________\n",
      "conv2d_3 (Conv2D)            (None, 50, 50, 1)         10        \n",
      "_________________________________________________________________\n",
      "conv2d_4 (Conv2D)            (None, 48, 48, 1)         10        \n",
      "_________________________________________________________________\n",
      "flatten_1 (Flatten)          (None, 2304)              0         \n",
      "_________________________________________________________________\n",
      "dense_1 (Dense)              (None, 512)               1180160   \n",
      "=================================================================\n",
      "Total params: 1,180,200\n",
      "Trainable params: 0\n",
      "Non-trainable params: 1,180,200\n",
      "_________________________________________________________________\n"
     ]
    }
   ],
   "source": [
    "input_shape = (patch_size, patch_size, 1)\n",
    "input_img = Input(shape=input_shape)\n",
    "\n",
    "x = Conv2D(1, (3,3), activation=\"relu\", padding=\"valid\", kernel_initializer=initializers.Constant(averaging_kernel_weight_3x3), bias_initializer=keras.initializers.Zeros(), trainable=False)(input_img)\n",
    "x = Conv2D(1, (3, 3), activation=\"relu\", padding=\"valid\", kernel_initializer=initializers.Constant(averaging_kernel_weight_3x3), bias_initializer=keras.initializers.Zeros(), trainable=False)(x)\n",
    "x = Conv2D(1, (3, 3), activation=\"relu\", padding=\"valid\", kernel_initializer=initializers.Constant(averaging_kernel_weight_3x3), bias_initializer=keras.initializers.Zeros(), trainable=False)(x)\n",
    "average_blurred = Conv2D(1, (3, 3), activation=\"relu\", padding=\"valid\", kernel_initializer=initializers.Constant(averaging_kernel_weight_3x3), bias_initializer=keras.initializers.Zeros(), trainable=False)(x)\n",
    "flattened = Flatten(data_format=\"channels_last\")(average_blurred)\n",
    "briefed = Dense(weights_dense.shape[1], activation=\"sigmoid\", weights=[weights_dense, np.zeros(weights_dense.shape[1])], trainable=False)(flattened)\n",
    "\n",
    "brief = Model(input_img, briefed)\n",
    "\n",
    "brief.compile(optimizer='adadelta', loss=\"binary_crossentropy\")\n",
    "brief.summary()"
   ]
  },
  {
   "cell_type": "code",
   "execution_count": null,
   "metadata": {},
   "outputs": [],
   "source": []
  },
  {
   "cell_type": "code",
   "execution_count": 4,
   "metadata": {},
   "outputs": [
    {
     "name": "stdout",
     "output_type": "stream",
     "text": [
      "(512,)\n",
      "[1 0 1 1 0 0 0 1 1 1 1 1 1 1 0 0 0 0 1 1 1 1 1 0 1 1 0 0 1 0 0 1 0 1 0 1 1\n",
      " 0 1 0 0 1 1 0 0 0 0 0 1 1 0 1 1 1 1 0 0 0 0 1 0 1 1 0 0 0 0 1 0 1 0 0 1 1\n",
      " 1 1 1 0 0 0 1 0 1 1 0 0 0 1 1 1 0 0 0 0 1 1 1 1 0 1 1 1 1 0 0 1 0 0 1 1 1\n",
      " 1 1 1 0 1 1 1 1 1 1 1 1 1 0 1 1 1 0 1 1 0 1 1 0 1 0 1 1 1 0 1 0 1 1 0 1 0\n",
      " 0 0 0 0 1 0 0 1 1 1 1 1 0 1 1 1 0 1 0 1 1 1 0 0 1 1 1 0 1 1 0 1 0 0 0 1 1\n",
      " 1 1 1 0 1 0 1 0 0 0 1 0 1 0 0 0 0 0 0 1 1 1 1 1 1 0 0 0 0 0 0 1 0 1 1 0 1\n",
      " 0 1 1 1 0 0 0 1 1 1 1 0 1 0 0 0 1 1 0 1 0 1 1 0 0 1 0 0 0 0 1 1 0 0 0 1 1\n",
      " 0 0 0 1 0 1 1 1 0 1 0 1 1 0 1 0 1 0 1 1 0 1 1 1 1 0 0 0 1 1 0 1 1 0 0 1 0\n",
      " 1 1 1 0 0 1 0 1 1 0 0 0 0 1 1 1 0 1 1 1 0 0 1 0 1 0 0 1 1 0 0 0 0 1 1 1 0\n",
      " 1 1 1 1 1 0 0 0 0 0 1 1 1 1 0 1 0 1 1 0 1 0 1 0 1 0 1 0 0 1 0 1 0 1 0 0 1\n",
      " 1 0 1 1 1 1 1 0 1 1 1 0 0 1 1 0 1 1 1 1 1 0 1 0 0 0 1 1 0 0 1 0 1 0 0 1 1\n",
      " 0 0 0 0 0 0 0 1 0 1 1 0 1 1 1 1 0 0 1 1 0 1 1 1 0 1 0 1 1 0 1 1 0 0 0 1 0\n",
      " 1 1 0 1 1 1 1 0 1 0 0 0 1 1 0 1 0 0 0 1 1 0 1 0 0 1 1 1 0 0 1 0 0 0 0 0 0\n",
      " 1 0 1 0 0 1 1 0 0 1 0 0 1 1 1 0 1 1 1 0 0 0 0 1 1 1 1 0 1 0 0]\n"
     ]
    }
   ],
   "source": [
    "# test BRIEF implemented as a NN on a random patch\n",
    "image = imageio.imread(\"./images/briefs_gray.bmp\")\n",
    "patch = image[96: 96 + patch_size, 68: 68 + patch_size]\n",
    "patch_with_chnl_dim = np.expand_dims(patch, axis=-1)\n",
    "patches = np.expand_dims(patch_with_chnl_dim, axis=0)\n",
    "\n",
    "descrs = brief.predict(patches)\n",
    "descr = np.array(np.round(descrs[0]), dtype=np.int32)\n",
    "print(descr.shape)\n",
    "print(descr)"
   ]
  },
  {
   "cell_type": "code",
   "execution_count": null,
   "metadata": {},
   "outputs": [],
   "source": []
  }
 ],
 "metadata": {
  "kernelspec": {
   "display_name": "Python (tf2)",
   "language": "python",
   "name": "tensorflow"
  },
  "language_info": {
   "codemirror_mode": {
    "name": "ipython",
    "version": 3
   },
   "file_extension": ".py",
   "mimetype": "text/x-python",
   "name": "python",
   "nbconvert_exporter": "python",
   "pygments_lexer": "ipython3",
   "version": "3.7.3"
  }
 },
 "nbformat": 4,
 "nbformat_minor": 2
}
