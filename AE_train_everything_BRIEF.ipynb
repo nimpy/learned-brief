{
 "cells": [
  {
   "cell_type": "code",
   "execution_count": 1,
   "metadata": {},
   "outputs": [
    {
     "name": "stderr",
     "output_type": "stream",
     "text": [
      "Using TensorFlow backend.\n"
     ]
    }
   ],
   "source": [
    "from keras.layers import Input, Dense, Convolution2D, MaxPooling2D, UpSampling2D, Conv2D, Flatten, Dense, Reshape\n",
    "from keras.models import Model, load_model\n",
    "from keras.preprocessing.image import ImageDataGenerator, img_to_array, load_img\n",
    "from keras import backend as K\n",
    "from keras import initializers\n",
    "import keras\n",
    "\n",
    "import numpy as np\n",
    "import matplotlib.pyplot as plt\n",
    "\n",
    "from os import listdir\n",
    "from os import system\n",
    "import os\n",
    "import random\n",
    "\n",
    "import imageio\n",
    "\n",
    "from skimage.measure import block_reduce"
   ]
  },
  {
   "cell_type": "code",
   "execution_count": 2,
   "metadata": {},
   "outputs": [],
   "source": [
    "brief_patch_size = 48  # default value of PATCH_SIZE in OpenCV implementation\n",
    "input_patch_size = 56  # larger than the default value, s.t. the blurring is done using valid padding\n",
    "\n",
    "nb_epoch = 50\n",
    "batch_size = 32\n",
    "\n",
    "averaging_kernel_weight_9x9 = 1./81\n",
    "averaging_kernel_weight_5x5 = 1./25\n",
    "averaging_kernel_weight_3x3 = 1./9\n",
    "\n",
    "weights_dense = np.load(\"./weights/weights_dense_64.npy\")"
   ]
  },
  {
   "cell_type": "code",
   "execution_count": null,
   "metadata": {},
   "outputs": [],
   "source": []
  },
  {
   "cell_type": "code",
   "execution_count": 3,
   "metadata": {},
   "outputs": [],
   "source": [
    "base_dir = '/scratch/image_datasets/2_for_learned_brief/ridiculously_small'\n",
    "\n",
    "train_data_dir      = base_dir + '/train'\n",
    "validation_data_dir = base_dir + '/validation'\n",
    "test_data_dir       = base_dir + '/test'\n",
    "\n",
    "train_descrs_dir      = base_dir + '/train'\n",
    "validation_descrs_dir = base_dir + '/validation'\n",
    "test_descrs_dir       = base_dir + '/test'"
   ]
  },
  {
   "cell_type": "code",
   "execution_count": 4,
   "metadata": {},
   "outputs": [],
   "source": [
    "def loading_data(dir_patches, dir_descrs):\n",
    "    files_patches = listdir(dir_patches + '/class0')\n",
    "    files_patches.sort()\n",
    "    \n",
    "    patches_in = []\n",
    "    patches_out = []\n",
    "\n",
    "    \n",
    "    for file_patch in files_patches:\n",
    "        patch_in = imageio.imread(dir_patches + '/class0/' + file_patch)\n",
    "        \n",
    "        patch_out = patch_in[5: 53, 5: 53]\n",
    "        patch_out = block_reduce(patch_out, (4, 4), func=np.mean)\n",
    "        \n",
    "        patches_in.append(patch_in)\n",
    "        patches_out.append(patch_out)\n",
    "        \n",
    "\n",
    "    patches_in = np.array(patches_in)\n",
    "    patches_in = patches_in.astype(np.float64) / 255\n",
    "    \n",
    "    patches_out = np.array(patches_out)\n",
    "    patches_out = patches_out.astype(np.float64) / 255\n",
    "    \n",
    "    print(\"in\", patches_in.shape, \"  out\", patches_out.shape)\n",
    "    \n",
    "    return patches_in, patches_out"
   ]
  },
  {
   "cell_type": "code",
   "execution_count": 5,
   "metadata": {},
   "outputs": [
    {
     "name": "stdout",
     "output_type": "stream",
     "text": [
      "in (504, 56, 56)   out (504, 12, 12)\n",
      "in (63, 56, 56)   out (63, 12, 12)\n"
     ]
    }
   ],
   "source": [
    "x_train, y_train = loading_data(train_data_dir, train_descrs_dir)\n",
    "x_validation, y_validation = loading_data(validation_data_dir, validation_descrs_dir)"
   ]
  },
  {
   "cell_type": "code",
   "execution_count": 6,
   "metadata": {},
   "outputs": [
    {
     "name": "stdout",
     "output_type": "stream",
     "text": [
      "(504, 56, 56, 1) (504, 12, 12, 1)\n",
      "(63, 56, 56, 1) (63, 12, 12, 1)\n"
     ]
    }
   ],
   "source": [
    "x_train = x_train.reshape((x_train.shape[0], x_train.shape[1], x_train.shape[2], 1))\n",
    "y_train = y_train.reshape((y_train.shape[0], y_train.shape[1], y_train.shape[2], 1))\n",
    "\n",
    "x_validation = x_validation.reshape((x_validation.shape[0], x_validation.shape[1], x_validation.shape[2], 1))\n",
    "y_validation = y_validation.reshape((y_validation.shape[0], y_validation.shape[1], y_validation.shape[2], 1))\n",
    "print(x_train.shape, y_train.shape)\n",
    "print(x_validation.shape, y_validation.shape)"
   ]
  },
  {
   "cell_type": "code",
   "execution_count": 7,
   "metadata": {},
   "outputs": [],
   "source": [
    "def fixed_generator(x_train, y_train, batch_size):\n",
    "    while True:\n",
    "        batch_list_x = []\n",
    "        batch_list_y = []\n",
    "        \n",
    "        for i in range(x_train.shape[0]):\n",
    "            batch_list_x.append(x_train[i])\n",
    "            batch_list_y.append(y_train[i])\n",
    "            if len(batch_list_x) == batch_size:\n",
    "                yield (np.array(batch_list_x),np.array(batch_list_y))\n",
    "                batch_list_x = []\n",
    "                batch_list_y = []"
   ]
  },
  {
   "cell_type": "code",
   "execution_count": 8,
   "metadata": {
    "scrolled": true
   },
   "outputs": [
    {
     "data": {
      "image/png": "[encoded data removed]",
      "text/plain": [
       "<Figure size 432x288 with 1 Axes>"
      ]
     },
     "metadata": {
      "needs_background": "light"
     },
     "output_type": "display_data"
    },
    {
     "data": {
      "image/png": "[encoded data removed]",
      "text/plain": [
       "<Figure size 432x288 with 1 Axes>"
      ]
     },
     "metadata": {
      "needs_background": "light"
     },
     "output_type": "display_data"
    }
   ],
   "source": [
    "plt.imshow(x_train[3, :, :, 0], cmap='gray')\n",
    "plt.show()\n",
    "plt.imshow(y_train[3, :, :, 0], cmap='gray')\n",
    "plt.show()"
   ]
  },
  {
   "cell_type": "code",
   "execution_count": null,
   "metadata": {},
   "outputs": [],
   "source": []
  },
  {
   "cell_type": "code",
   "execution_count": 16,
   "metadata": {},
   "outputs": [],
   "source": [
    "my_adadelta = keras.optimizers.Adadelta(learning_rate=0.1, rho=0.95)"
   ]
  },
  {
   "cell_type": "code",
   "execution_count": 17,
   "metadata": {
    "scrolled": false
   },
   "outputs": [
    {
     "name": "stdout",
     "output_type": "stream",
     "text": [
      "Model: \"model_2\"\n",
      "_________________________________________________________________\n",
      "Layer (type)                 Output Shape              Param #   \n",
      "=================================================================\n",
      "input_2 (InputLayer)         (None, 56, 56, 1)         0         \n",
      "_________________________________________________________________\n",
      "conv2d_10 (Conv2D)           (None, 54, 54, 1)         10        \n",
      "_________________________________________________________________\n",
      "conv2d_11 (Conv2D)           (None, 52, 52, 1)         10        \n",
      "_________________________________________________________________\n",
      "conv2d_12 (Conv2D)           (None, 50, 50, 1)         10        \n",
      "_________________________________________________________________\n",
      "conv2d_13 (Conv2D)           (None, 48, 48, 1)         10        \n",
      "_________________________________________________________________\n",
      "flatten_2 (Flatten)          (None, 2304)              0         \n",
      "_________________________________________________________________\n",
      "dense_3 (Dense)              (None, 512)               1180160   \n",
      "_________________________________________________________________\n",
      "dense_4 (Dense)              (None, 1152)              590976    \n",
      "_________________________________________________________________\n",
      "reshape_2 (Reshape)          (None, 6, 6, 32)          0         \n",
      "_________________________________________________________________\n",
      "conv2d_14 (Conv2D)           (None, 6, 6, 32)          9248      \n",
      "_________________________________________________________________\n",
      "conv2d_15 (Conv2D)           (None, 6, 6, 32)          9248      \n",
      "_________________________________________________________________\n",
      "up_sampling2d_2 (UpSampling2 (None, 12, 12, 32)        0         \n",
      "_________________________________________________________________\n",
      "conv2d_16 (Conv2D)           (None, 12, 12, 32)        9248      \n",
      "_________________________________________________________________\n",
      "conv2d_17 (Conv2D)           (None, 12, 12, 8)         2312      \n",
      "_________________________________________________________________\n",
      "conv2d_18 (Conv2D)           (None, 12, 12, 1)         73        \n",
      "=================================================================\n",
      "Total params: 1,801,305\n",
      "Trainable params: 1,801,305\n",
      "Non-trainable params: 0\n",
      "_________________________________________________________________\n"
     ]
    }
   ],
   "source": [
    "input_shape = (input_patch_size, input_patch_size, 1)\n",
    "input_img = Input(shape=input_shape)\n",
    "\n",
    "x = Conv2D(1, (3,3), activation=\"relu\", padding=\"valid\", kernel_initializer=initializers.Constant(averaging_kernel_weight_3x3), bias_initializer=keras.initializers.Zeros())(input_img)\n",
    "x = Conv2D(1, (3, 3), activation=\"relu\", padding=\"valid\", kernel_initializer=initializers.Constant(averaging_kernel_weight_3x3), bias_initializer=keras.initializers.Zeros())(x)\n",
    "x = Conv2D(1, (3, 3), activation=\"relu\", padding=\"valid\", kernel_initializer=initializers.Constant(averaging_kernel_weight_3x3), bias_initializer=keras.initializers.Zeros())(x)\n",
    "average_blurred = Conv2D(1, (3, 3), activation=\"relu\", padding=\"valid\", kernel_initializer=initializers.Constant(averaging_kernel_weight_3x3), bias_initializer=keras.initializers.Zeros())(x)\n",
    "flattened = Flatten(data_format=\"channels_last\")(average_blurred)\n",
    "briefed = Dense(weights_dense.shape[1], activation=\"sigmoid\", weights=[weights_dense, np.zeros(weights_dense.shape[1])])(flattened)\n",
    "\n",
    "\n",
    "x = Dense(1152, activation=\"relu\")(briefed)\n",
    "x = Reshape((6, 6, 32))(x)\n",
    "\n",
    "x = Conv2D(32, (3,3), activation=\"relu\", padding=\"same\")(x)\n",
    "x = Conv2D(32, (3,3), activation=\"relu\", padding=\"same\")(x)\n",
    "x = UpSampling2D((2, 2))(x)\n",
    "x = Conv2D(32, (3,3), activation=\"relu\", padding=\"same\")(x)\n",
    "x = Conv2D(8, (3,3), activation=\"relu\", padding=\"same\")(x)\n",
    "decoded = Conv2D(1, (3,3), activation=\"sigmoid\", padding=\"same\")(x)\n",
    "\n",
    "brief_ae = Model(input_img, decoded)\n",
    "\n",
    "brief_ae.compile(optimizer=my_adadelta, loss=\"binary_crossentropy\")\n",
    "brief_ae.summary()"
   ]
  },
  {
   "cell_type": "code",
   "execution_count": 11,
   "metadata": {},
   "outputs": [],
   "source": [
    "from keras.callbacks import Callback\n",
    "\n",
    "# taken from https://github.com/keras-team/keras/issues/7874#issuecomment-329347949\n",
    "\n",
    "class LRPrintCallback(Callback):\n",
    "    def on_epoch_end(self, epoch, logs=None):\n",
    "        lr = self.model.optimizer.lr\n",
    "        decay = self.model.optimizer.decay\n",
    "        iterations = self.model.optimizer.iterations\n",
    "        lr_with_decay = lr / (1. + decay * K.cast(iterations, K.dtype(decay)))\n",
    "        print(K.eval(lr_with_decay))\n",
    "        print(K.eval(lr))\n",
    "        print(K.eval(decay))\n",
    "        \n",
    "lr_printer = LRPrintCallback()"
   ]
  },
  {
   "cell_type": "code",
   "execution_count": 12,
   "metadata": {},
   "outputs": [],
   "source": [
    "model_version_previous = '0.0.0.3.4_decoder_dense1152_conv32_conv32_up_conv32_conv8_conv1__relu_last_sigmoid_bce_output12x12_lr0.001_200moreepochs'\n",
    "brief_ae_previous = load_model(base_dir + '/brief_ae_' + model_version_previous + '.h5')"
   ]
  },
  {
   "cell_type": "code",
   "execution_count": 13,
   "metadata": {},
   "outputs": [
    {
     "data": {
      "text/plain": [
       "(512, 1152)"
      ]
     },
     "execution_count": 13,
     "metadata": {},
     "output_type": "execute_result"
    }
   ],
   "source": [
    "brief_ae_previous.get_layer(index=7).get_weights()[0].shape"
   ]
  },
  {
   "cell_type": "code",
   "execution_count": 15,
   "metadata": {
    "scrolled": true
   },
   "outputs": [
    {
     "name": "stdout",
     "output_type": "stream",
     "text": [
      "<keras.layers.core.Dense object at 0x7f0f3a96e240>\n",
      "<keras.layers.core.Reshape object at 0x7f0f3a96e550>\n",
      "<keras.layers.convolutional.Conv2D object at 0x7f0f3a96e668>\n",
      "<keras.layers.convolutional.Conv2D object at 0x7f0f3a96e710>\n",
      "<keras.layers.convolutional.UpSampling2D object at 0x7f0f382dd7f0>\n",
      "<keras.layers.convolutional.Conv2D object at 0x7f0f382dd588>\n",
      "<keras.layers.convolutional.Conv2D object at 0x7f0f382ddef0>\n",
      "<keras.layers.convolutional.Conv2D object at 0x7f0f3827c9b0>\n"
     ]
    }
   ],
   "source": [
    "for i in range(7, len(brief_ae.layers)):\n",
    "    print(brief_ae_previous.get_layer(index=i))\n",
    "    brief_ae.get_layer(index=i).set_weights(brief_ae_previous.get_layer(index=i).get_weights())"
   ]
  },
  {
   "cell_type": "code",
   "execution_count": null,
   "metadata": {},
   "outputs": [],
   "source": []
  },
  {
   "cell_type": "code",
   "execution_count": null,
   "metadata": {},
   "outputs": [
    {
     "name": "stdout",
     "output_type": "stream",
     "text": [
      "Epoch 1/50\n",
      "504/504 [==============================] - 16s 31ms/step - loss: 0.6441 - val_loss: 0.6184\n",
      "Epoch 2/50\n",
      "504/504 [==============================] - 16s 31ms/step - loss: 0.6073 - val_loss: 0.6179\n",
      "Epoch 3/50\n",
      "504/504 [==============================] - 16s 31ms/step - loss: 0.6019 - val_loss: 0.6129\n",
      "Epoch 4/50\n",
      "504/504 [==============================] - 16s 31ms/step - loss: 0.5990 - val_loss: 0.6084\n",
      "Epoch 5/50\n",
      "504/504 [==============================] - 16s 31ms/step - loss: 0.5969 - val_loss: 0.6102\n",
      "Epoch 6/50\n",
      " 61/504 [==>...........................] - ETA: 12s - loss: 0.5957"
     ]
    }
   ],
   "source": [
    "model_version = '0.0.1.0.0_whole_dense1152_conv32_conv32_up_conv32_conv8_conv1__relu_last_sigmoid_bce_output12x12_lr0.1'\n",
    "\n",
    "os.system('mkdir ' + base_dir + '/weights' + model_version)\n",
    "\n",
    "checkpointer = keras.callbacks.ModelCheckpoint(\n",
    "    base_dir + '/weights' + model_version + '/weights.{epoch:02d}-{val_loss:.2f}.hdf5', monitor='val_loss',\n",
    "    verbose=0, save_best_only=False, save_weights_only=False, mode='auto', period=1)\n",
    "\n",
    "brief_ae.fit_generator(fixed_generator(x_train, y_train, batch_size),\n",
    "                steps_per_epoch=x_train.shape[0],\n",
    "                epochs=50,\n",
    "                validation_data=fixed_generator(x_validation, y_validation, batch_size),\n",
    "                validation_steps=x_validation.shape[0]#,\n",
    "                #callbacks=[lr_printer]\n",
    "                )\n",
    "\n",
    "brief_ae.save(base_dir + '/brief_ae_' + model_version + '.h5')\n",
    "\n",
    "# brief_ae = load_model(base_dir + '/brief_ae_' + model_version + '.h5')"
   ]
  },
  {
   "cell_type": "code",
   "execution_count": null,
   "metadata": {},
   "outputs": [],
   "source": []
  }
 ],
 "metadata": {
  "kernelspec": {
   "display_name": "tf_2",
   "language": "python",
   "name": "tensorflow"
  },
  "language_info": {
   "codemirror_mode": {
    "name": "ipython",
    "version": 3
   },
   "file_extension": ".py",
   "mimetype": "text/x-python",
   "name": "python",
   "nbconvert_exporter": "python",
   "pygments_lexer": "ipython3",
   "version": "3.7.3"
  }
 },
 "nbformat": 4,
 "nbformat_minor": 2
}
